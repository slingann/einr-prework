{
 "cells": [
  {
   "cell_type": "markdown",
   "id": "e030dffa",
   "metadata": {},
   "source": [
    "\n",
    "------\n",
    "\n",
    "# Functions, Lists, Dictionaries\n",
    "\n",
    "\n",
    "### Table of Contents\n",
    "\n",
    "\n",
    "1 - [Functions](#section1)<br>\n",
    "\n",
    "&nbsp;&nbsp;&nbsp;&nbsp;&nbsp;&nbsp; 1.1 - [Built-in Functions](#subsection1)<br>\n",
    "\n",
    "&nbsp;&nbsp;&nbsp;&nbsp;&nbsp;&nbsp; 1.2 - [Defining Functions](#subsection2)<br>\n",
    "\n",
    "&nbsp;&nbsp;&nbsp;&nbsp;&nbsp;&nbsp; 1.3 - [Importing Libraries](#subsection3)<br>\n",
    "\n",
    "2 - [Lists](#section2)<br>\n",
    "\n",
    "&nbsp;&nbsp;&nbsp;&nbsp;&nbsp;&nbsp; 2.1 - [List Iteration and Slicing `[ : ]`](#subsection4)<br>\n",
    "\n",
    "&nbsp;&nbsp;&nbsp;&nbsp;&nbsp;&nbsp; 2.2 - [Adding Elements](#subsection5)<br>\n",
    "\n",
    "&nbsp;&nbsp;&nbsp;&nbsp;&nbsp;&nbsp; 2.3 - [Deleting Elements](#subsection6)<br>\n",
    "\n",
    "&nbsp;&nbsp;&nbsp;&nbsp;&nbsp;&nbsp; 2.4 - [Length of a list](#subsection7)<br>\n",
    "\n",
    "&nbsp;&nbsp;&nbsp;&nbsp;&nbsp;&nbsp; 2.5 - [Operations on a list](#subsection8)<br>\n",
    "\n",
    "3 - [Dictionaries](#section3)<br>"
   ]
  },
  {
   "cell_type": "markdown",
   "id": "300c2995",
   "metadata": {},
   "source": [
    "---\n",
    "# Functions<a id='section1'></a>"
   ]
  },
  {
   "cell_type": "markdown",
   "id": "8c5a5486",
   "metadata": {},
   "source": [
    "### 1.1 Built-in Functions <a id='subsection1'></a>"
   ]
  },
  {
   "cell_type": "markdown",
   "id": "15530caa",
   "metadata": {},
   "source": [
    "Python does not have a lot of built-in (aka available by default) functions and methods. But it does have some. We will go over a few useful functions and methods that will be good for you to know. \n",
    "\n",
    "If something is a function, it will appear in green color. "
   ]
  },
  {
   "cell_type": "code",
   "execution_count": null,
   "id": "dd52568e",
   "metadata": {},
   "outputs": [],
   "source": [
    "# EXAMPLE \n",
    "\n",
    "a = -4\n",
    "print(abs(a))"
   ]
  },
  {
   "cell_type": "code",
   "execution_count": null,
   "id": "b3238646",
   "metadata": {},
   "outputs": [],
   "source": [
    "# EXAMPLE \n",
    "\n",
    "max(2, 5, 9, 7)"
   ]
  },
  {
   "cell_type": "code",
   "execution_count": null,
   "id": "0cb876d3",
   "metadata": {},
   "outputs": [],
   "source": [
    "# EXAMPLE \n",
    "\n",
    "min(3, 7)"
   ]
  },
  {
   "cell_type": "markdown",
   "id": "1a024484",
   "metadata": {},
   "source": [
    "Another built-in function you will most likely use in your coding a lot, is  **len(   )**. It is used to learn about the length of different objects. "
   ]
  },
  {
   "cell_type": "markdown",
   "id": "c1008728",
   "metadata": {},
   "source": [
    "### <center>  * * * Good Coding Practice Moment * * * <center>\n",
    "#### Even the pros use Google \n",
    "\n",
    "If you can't remember how to use a function, you want to find a new function, or you just aren't sure how to code something, Google is a great place to start. Someone else has likely had the same question before and posted on a website. It may take some time to learn how to understand coding blogs and websites, but then you can find the answers you need, just like the rest of us, on Google. \n",
    "\n",
    "### <center> * * * * * * * * * * * * * * * * * * * * * * * * * * * * <center>"
   ]
  },
  {
   "cell_type": "code",
   "execution_count": null,
   "id": "716835fa",
   "metadata": {},
   "outputs": [],
   "source": [
    "# EXAMPLE\n",
    "\n",
    "len(\"dog\")"
   ]
  },
  {
   "cell_type": "code",
   "execution_count": 6,
   "id": "02f37331",
   "metadata": {},
   "outputs": [
    {
     "data": {
      "text/plain": [
       "4"
      ]
     },
     "execution_count": 6,
     "metadata": {},
     "output_type": "execute_result"
    }
   ],
   "source": [
    "# EXERCISE\n",
    "\n",
    "# what do you think this cell will output?\n",
    "\n",
    "\n",
    "len(\"dog \")"
   ]
  },
  {
   "cell_type": "markdown",
   "id": "2b98939b",
   "metadata": {},
   "source": [
    "In the example below, we will use a built-in **method**. There's no big difference between the a function and a method except for the syntax.\n",
    "\n",
    "Functions (not only the built-in ones) are usually used in the form of\n",
    "\n",
    "`function(argument 1, argument n)`\n",
    "\n",
    "<img src='images/function.png'>\n",
    "\n"
   ]
  },
  {
   "cell_type": "markdown",
   "id": "8dc48bbc",
   "metadata": {},
   "source": [
    "Unlike functions, methods are usually added at the end of the variable.\n",
    "\n",
    "`variable.method()`\n",
    "<img src ='images/method.png'>\n",
    "\n"
   ]
  },
  {
   "cell_type": "markdown",
   "id": "3a98e90b",
   "metadata": {},
   "source": [
    "### <center>  * * * Good Coding Practice Moment * * * <center>\n",
    "#### Google really is super helpful. \n",
    "\n",
    "If you can't remember if something is a function or a method, you can always google it. We've all done it before. You can also try both ways and see which one works. \n",
    "\n",
    "### <center> * * * * * * * * * * * * * * * * * * * * * * * * * * * * <center>"
   ]
  },
  {
   "cell_type": "code",
   "execution_count": 7,
   "id": "377be661",
   "metadata": {},
   "outputs": [
    {
     "name": "stdout",
     "output_type": "stream",
     "text": [
      "HELLO WORLD\n",
      "Hello World\n"
     ]
    }
   ],
   "source": [
    "# EXAMPLE \n",
    "\n",
    "hello = \"Hello World\"\n",
    "\n",
    "print(hello.upper())\n",
    "print(hello)"
   ]
  },
  {
   "cell_type": "markdown",
   "id": "c3a2a56a",
   "metadata": {},
   "source": [
    "Have you noticed that the variable **hello** didn't change? Can you think why is that? "
   ]
  },
  {
   "cell_type": "code",
   "execution_count": 2,
   "id": "5da4eec9",
   "metadata": {},
   "outputs": [
    {
     "name": "stdout",
     "output_type": "stream",
     "text": [
      "hello world\n",
      "Hello World\n"
     ]
    }
   ],
   "source": [
    "# EXAMPLE \n",
    "\n",
    "hello = \"Hello World\"\n",
    "print(hello.lower())\n",
    "print(hello)"
   ]
  },
  {
   "cell_type": "markdown",
   "id": "48db735b",
   "metadata": {},
   "source": [
    "In the cell below, create a variable **phrase** which tells us what school you go to. Then change all the letters to upper-cased letters."
   ]
  },
  {
   "cell_type": "code",
   "execution_count": 1,
   "id": "05cddf66",
   "metadata": {},
   "outputs": [
    {
     "name": "stdout",
     "output_type": "stream",
     "text": [
      "I GO TO HAYWARD HIGH SCHOOL\n"
     ]
    }
   ],
   "source": [
    "# EXERCISE \n",
    "\n",
    "\n",
    "phrase = \"I go to Hayward High School\"\n",
    "phrase = phrase.upper()\n",
    "\n",
    "print(phrase)"
   ]
  },
  {
   "cell_type": "markdown",
   "id": "6c2b911f",
   "metadata": {},
   "source": [
    "### <center>  * * * Good Coding Practice Moment * * * <center>\n",
    "#### There's probably a function for that. \n",
    "\n",
    "There are a lot of functions out there. Whether you are trying to figure out how to sort a bunch of numbers, generate a random number, or find a specific character in a long string, someone else has probably already written a function that does that. Later we will go through how to access whole libraries of functions so you can use them. \n",
    "\n",
    "### <center> * * * * * * * * * * * * * * * * * * * * * * * * * * * * <center>"
   ]
  },
  {
   "cell_type": "markdown",
   "id": "ea96a022",
   "metadata": {},
   "source": [
    "### 1.2 Defining Functions <a id='subsection2'></a>"
   ]
  },
  {
   "cell_type": "markdown",
   "id": "2be1ba63",
   "metadata": {},
   "source": [
    "A function is a block code that you can reuse to perform a specific action. In the next cell, we will be defining a simple one-line function that takes one argument."
   ]
  },
  {
   "cell_type": "code",
   "execution_count": 5,
   "id": "da4e57eb",
   "metadata": {},
   "outputs": [],
   "source": [
    "# EXAMPLE\n",
    "\n",
    "def degrees_FtoK(F):\n",
    "    # This function converts temperatures measured in \n",
    "    #degrees Fahrenheit to Kelvin. \n",
    "    #Inputs: \n",
    "        # F - temperature measured in degrees Fahrenheit\n",
    "    #Outputs:\n",
    "        # K - temperature in Kelvin.\n",
    "        \n",
    "    K =(F +459.67)*5/9\n",
    "    return K"
   ]
  },
  {
   "cell_type": "markdown",
   "id": "a5dc4130",
   "metadata": {},
   "source": [
    "Here's how to use the function:"
   ]
  },
  {
   "cell_type": "code",
   "execution_count": null,
   "id": "a83bbedd",
   "metadata": {},
   "outputs": [],
   "source": [
    "#EXAMPLE\n",
    "\n",
    "# Convert 81 degrees F to Kelvin \n",
    "temp = degrees_FtoK(81)"
   ]
  },
  {
   "cell_type": "markdown",
   "id": "06ec5d1c",
   "metadata": {},
   "source": [
    "Use the `degrees_FtoK` function to find convert the following temperatures from Fahrenheit to Kelvin. -459.67&#8457;, 32&#8457;, and 98.6&#8457;"
   ]
  },
  {
   "cell_type": "code",
   "execution_count": 10,
   "id": "5c505d08",
   "metadata": {},
   "outputs": [
    {
     "name": "stdout",
     "output_type": "stream",
     "text": [
      "0.0\n",
      "268.62222222222226\n",
      "292.78333333333336\n"
     ]
    }
   ],
   "source": [
    "# Exercise\n",
    "temp1 = degrees_FtoK(-459.67)\n",
    "temp2 = degrees_FtoK(23.85)\n",
    "temp3 = degrees_FtoK(67.34)\n",
    "\n",
    "print(temp1)\n",
    "print(temp2)\n",
    "print(temp3)"
   ]
  },
  {
   "cell_type": "markdown",
   "id": "bdd4fd13",
   "metadata": {},
   "source": [
    "Functions can perform multiple calculations and use more than one argument, they can even return more than one thing, or nothing at all. They can incorporate lots of things including other functions inside of your function - aka nested functions (we won't be going over nested functions in this workshop, but feel free to look them up).\n",
    "\n",
    "**Discussion Question: When would I want to use a function?**"
   ]
  },
  {
   "cell_type": "markdown",
   "id": "cda17a4f",
   "metadata": {},
   "source": [
    "### <center>  * * * Good Coding Practice Moment * * * </center>\n",
    "#### How to define a function:\n",
    "    \n",
    "<img src = \"images/explain_functions.png\">\n",
    "    \n",
    "1. `def` is how you tell the computer you want to define a function.\n",
    "2. The title of the function - This is how you will call the function.\n",
    "3. The inputs to your function (if you have more than one, separate with commas)\n",
    "4. If you don't put a colon here, it will cause an error\n",
    "5. It is good coding practice to include a comment that describes what the function is trying to do, I like to include a list of inputs and outputs as well in case I forget what the variables mean. \n",
    "6. Notice that everything inside the function is indented. Anything that isn't indented won't be included in the function. Your editor usually does the indent for you automatically. \n",
    "7. If you want to output a value, put return and then the names of the variables you wish to return (separated by commas if there are more than one.\n",
    "\n",
    "### <center> * * * * * * * * * * * * * * * * * * * * * * * * * * * * <center>"
   ]
  },
  {
   "cell_type": "markdown",
   "id": "629b4106",
   "metadata": {},
   "source": [
    "Functions can perform multiple calculations and use more than one argument. They can incorporate loops, conditionals, and other functions inside of your function - aka nested functions (we won't be going over nested functions in this workshop, but feel free to look them up)."
   ]
  },
  {
   "cell_type": "code",
   "execution_count": null,
   "id": "f5fb28f6",
   "metadata": {},
   "outputs": [],
   "source": [
    "# EXAMPLE\n",
    "def area(width, height):\n",
    "    area = width*height\n",
    "    return area\n",
    "\n",
    "area(2,4)"
   ]
  },
  {
   "cell_type": "code",
   "execution_count": 15,
   "id": "cc88f09c",
   "metadata": {},
   "outputs": [
    {
     "data": {
      "text/plain": [
       "12.56"
      ]
     },
     "execution_count": 15,
     "metadata": {},
     "output_type": "execute_result"
    }
   ],
   "source": [
    "# EXERCISE\n",
    "# Create a function that takes in a circle's radius and calculates its area\n",
    "\n",
    "def circleArea(r):\n",
    "    area = 3.14*r**2\n",
    "    return area\n",
    "\n",
    "b = circleArea(2)\n",
    "b"
   ]
  },
  {
   "cell_type": "code",
   "execution_count": 16,
   "id": "e2294b4f",
   "metadata": {},
   "outputs": [
    {
     "data": {
      "text/plain": [
       "20.0"
      ]
     },
     "execution_count": 16,
     "metadata": {},
     "output_type": "execute_result"
    }
   ],
   "source": [
    "# EXERCISE\n",
    "# Create a function that takes in a triangle's base and height and calculates its area\n",
    "# Use the variables b for base and h for height\n",
    "\n",
    "def triangleArea(base,height):\n",
    "    area = base*height/2\n",
    "    return area\n",
    "\n",
    "c = triangleArea(4, 10)\n",
    "c"
   ]
  },
  {
   "cell_type": "markdown",
   "id": "2daef6e9",
   "metadata": {},
   "source": [
    "Be careful when defining variables within functions. They are **local** variables and can only be accessible within the function - if you try to use them outside of the function, you will get an error. **Global** variables are those that are defined outside of the function. They can be used throughout the program.\n",
    "\n",
    "In the example below, what variable is global? Local?"
   ]
  },
  {
   "cell_type": "code",
   "execution_count": 17,
   "id": "acedf95d",
   "metadata": {},
   "outputs": [
    {
     "data": {
      "text/plain": [
       "98.0"
      ]
     },
     "execution_count": 17,
     "metadata": {},
     "output_type": "execute_result"
    }
   ],
   "source": [
    "# EXAMPLE\n",
    "\n",
    "# global variable\n",
    "g = 9.8 #acceleration due to gravity\n",
    "\n",
    "def findWeight(mass):\n",
    "    fg = mass*g #local variable\n",
    "    return fg\n",
    "    \n",
    "weight = findWeight(10)\n",
    "weight\n"
   ]
  },
  {
   "cell_type": "markdown",
   "id": "531cadb3",
   "metadata": {},
   "source": [
    "### 1.3 Importing Libraries <a id='subsection3'></a>"
   ]
  },
  {
   "cell_type": "markdown",
   "id": "6ba8646a",
   "metadata": {},
   "source": [
    "In order to do more with Python, we have to import libraries. Libraries contain functions and variables that you can use in your code.\n",
    "\n",
    "For example, using the tools you have now, how would you get pi using Python? Recite it from memory? That is not very convient."
   ]
  },
  {
   "cell_type": "code",
   "execution_count": null,
   "id": "a7f33de7",
   "metadata": {},
   "outputs": [],
   "source": [
    "# EXAMPLE \n",
    "\n",
    "import math\n",
    "\n",
    "math.pi"
   ]
  },
  {
   "cell_type": "code",
   "execution_count": 19,
   "id": "06f9987f",
   "metadata": {},
   "outputs": [
    {
     "data": {
      "text/plain": [
       "12.566370614359172"
      ]
     },
     "execution_count": 19,
     "metadata": {},
     "output_type": "execute_result"
    }
   ],
   "source": [
    "#EXERCISE\n",
    "#Rewrite your function earlier that calculated a circle's area so that it uses math.pi\n",
    "import math\n",
    "\n",
    "def circleArea(r):\n",
    "    area = math.pi*r**2\n",
    "    return area\n",
    "\n",
    "b = circleArea(2)\n",
    "b"
   ]
  },
  {
   "cell_type": "markdown",
   "id": "2d128429",
   "metadata": {},
   "source": [
    "Do you notice anything different in the output now that you are using math.pi?"
   ]
  },
  {
   "cell_type": "markdown",
   "id": "6346aad9",
   "metadata": {},
   "source": [
    "You can look at interesting functions/variables that you have when you import the [math library](https://docs.python.org/3/library/math.html#)!"
   ]
  },
  {
   "cell_type": "markdown",
   "id": "0d4b1b16",
   "metadata": {},
   "source": [
    "---\n",
    "# Lists<a id='section2'></a>"
   ]
  },
  {
   "cell_type": "markdown",
   "id": "92cd756f",
   "metadata": {},
   "source": [
    "List is a data structure that allows you to save multiple objects. In comparison with strings, lists can contain different data types/objects. Strings can only store textual data."
   ]
  },
  {
   "cell_type": "code",
   "execution_count": 20,
   "id": "0978886a",
   "metadata": {},
   "outputs": [
    {
     "data": {
      "text/plain": [
       "[2, 'name', 3, 'berkeley']"
      ]
     },
     "execution_count": 20,
     "metadata": {},
     "output_type": "execute_result"
    }
   ],
   "source": [
    "# EXAMPLE\n",
    "\n",
    "new_lst = [2, \"name\", 3, \"berkeley\"]\n",
    "new_lst"
   ]
  },
  {
   "cell_type": "code",
   "execution_count": 21,
   "id": "a0c3726f",
   "metadata": {},
   "outputs": [
    {
     "data": {
      "text/plain": [
       "[]"
      ]
     },
     "execution_count": 21,
     "metadata": {},
     "output_type": "execute_result"
    }
   ],
   "source": [
    "# here's how you can create an empty list\n",
    "\n",
    "empty_lst = []\n",
    "empty_lst"
   ]
  },
  {
   "cell_type": "markdown",
   "id": "e3c9438b",
   "metadata": {},
   "source": [
    "Discussion: Why would you want to have an empty list? "
   ]
  },
  {
   "cell_type": "markdown",
   "id": "448e3c94",
   "metadata": {},
   "source": [
    "Don't ever call your list \"list\". This is a reserved name for a function in Python. It is easy to tell (in Jupyter Notebooks) whether something is a function/method. When you enter it, it will be in green in your code cell."
   ]
  },
  {
   "cell_type": "code",
   "execution_count": null,
   "id": "b036d27f",
   "metadata": {},
   "outputs": [],
   "source": [
    "list"
   ]
  },
  {
   "cell_type": "markdown",
   "id": "f0ba70e4",
   "metadata": {},
   "source": [
    "Let's see how we can use this function on a string. Save your name in the variable \"name\" first."
   ]
  },
  {
   "cell_type": "code",
   "execution_count": 24,
   "id": "0b848d76",
   "metadata": {},
   "outputs": [
    {
     "data": {
      "text/plain": [
       "['S', 'a', 'm', 'i', 'k', 's', 'h', 'a']"
      ]
     },
     "execution_count": 24,
     "metadata": {},
     "output_type": "execute_result"
    }
   ],
   "source": [
    "# EXERCISE\n",
    "\n",
    "name = \"Samiksha\"\n",
    "\n",
    "list(name)"
   ]
  },
  {
   "cell_type": "markdown",
   "id": "1c780d90",
   "metadata": {},
   "source": [
    "Discuss: Looking at the above example, what do you think the `list` function is doing?"
   ]
  },
  {
   "cell_type": "markdown",
   "id": "996cbac2",
   "metadata": {},
   "source": [
    "Every value that is stored in the list has its \"address\", also known as its index position. By using the index position, we can get any particular value from the list. \n",
    "\n",
    "All index value starts from 0. Python reads the list from left to right in default. If we want to call a value stored in a specific index position, we have to specify the index position with the variable name."
   ]
  },
  {
   "cell_type": "code",
   "execution_count": null,
   "id": "d9e2cbb2",
   "metadata": {},
   "outputs": [],
   "source": [
    "# EXAMPLE\n",
    "\n",
    "teamColors = [\"Purple\", \"Blue\", \"Green\", \"Yellow\"]\n",
    "teamColors"
   ]
  },
  {
   "cell_type": "code",
   "execution_count": null,
   "id": "ecaa6ae5",
   "metadata": {},
   "outputs": [],
   "source": [
    "teamColors[0]"
   ]
  },
  {
   "cell_type": "code",
   "execution_count": 27,
   "id": "47e4d44c",
   "metadata": {},
   "outputs": [
    {
     "data": {
      "text/plain": [
       "'Green'"
      ]
     },
     "execution_count": 27,
     "metadata": {},
     "output_type": "execute_result"
    }
   ],
   "source": [
    "# EXERCISE\n",
    "\n",
    "#Grab \"Green\" from the teamColors list\n",
    "teamColors = [\"Purple\", \"Blue\", \"Green\", \"Yellow\"]\n",
    "teamColors[2]"
   ]
  },
  {
   "cell_type": "code",
   "execution_count": 28,
   "id": "476af3c6",
   "metadata": {},
   "outputs": [
    {
     "data": {
      "text/plain": [
       "'Yellow'"
      ]
     },
     "execution_count": 28,
     "metadata": {},
     "output_type": "execute_result"
    }
   ],
   "source": [
    "# EXERCISE\n",
    "\n",
    "#Grab \"Yellow\" from the teamColors list\n",
    "\n",
    "teamColors = [\"Purple\", \"Blue\", \"Green\", \"Yellow\"]\n",
    "teamColors[3]"
   ]
  },
  {
   "cell_type": "markdown",
   "id": "a25c1add",
   "metadata": {},
   "source": [
    "Another way we can use lists, is to store data that belongs together, For example instead of having a variable `pos_x` and another `pos_y`, we can save them in a single list `position = [pos_y, pos_x]`"
   ]
  },
  {
   "cell_type": "code",
   "execution_count": null,
   "id": "865bd050",
   "metadata": {},
   "outputs": [],
   "source": [
    "# EXAMPLE\n",
    "\n",
    "pos_x = 0\n",
    "pos_y = 1\n",
    "\n",
    "position = [pos_x, pos_y]\n",
    "position"
   ]
  },
  {
   "cell_type": "markdown",
   "id": "70b97fce",
   "metadata": {},
   "source": [
    "### 2.1 List Iteration and Slicing `[ : ]`<a id='subsection4'></a>"
   ]
  },
  {
   "cell_type": "code",
   "execution_count": 38,
   "id": "2cdb1fec",
   "metadata": {},
   "outputs": [],
   "source": [
    "# Let's create a list of school subjects for this section\n",
    "\n",
    "subjects = [\"Math\", \"Physics\", \"English\", \"PE\"]"
   ]
  },
  {
   "cell_type": "markdown",
   "id": "e56fe901",
   "metadata": {},
   "source": [
    "To iterate through the list, you can use square brackets with an index of an object you are interested in. Like so:"
   ]
  },
  {
   "cell_type": "code",
   "execution_count": null,
   "id": "61db5b36",
   "metadata": {},
   "outputs": [],
   "source": [
    "# remember that Python, like many programming languages, starts counting from 0.\n",
    "\n",
    "subjects[3]"
   ]
  },
  {
   "cell_type": "markdown",
   "id": "483ee228",
   "metadata": {},
   "source": [
    "Notice also that each component of the list separated by a comma is a single object. So the list inside of the list will be a single object. If you want to iterate through a list inside of the list, you will need to use the square brackets twice. Like we did here:"
   ]
  },
  {
   "cell_type": "code",
   "execution_count": null,
   "id": "bfac9c09",
   "metadata": {},
   "outputs": [],
   "source": [
    "# EXAMPLE\n",
    "\n",
    "subjects[3][0]"
   ]
  },
  {
   "cell_type": "markdown",
   "id": "01d1f0e9",
   "metadata": {},
   "source": [
    "You can also replace the objects in the list:"
   ]
  },
  {
   "cell_type": "code",
   "execution_count": 39,
   "id": "9a544b02",
   "metadata": {},
   "outputs": [
    {
     "data": {
      "text/plain": [
       "['Calculus', 'Physics', 'English', 'PE']"
      ]
     },
     "execution_count": 39,
     "metadata": {},
     "output_type": "execute_result"
    }
   ],
   "source": [
    "# EXAMPLE\n",
    "\n",
    "subjects[0] = \"Calculus\"\n",
    "subjects"
   ]
  },
  {
   "cell_type": "markdown",
   "id": "7fafc5ec",
   "metadata": {},
   "source": [
    "To get more than one element from you list, use the syntax: `list[start:stop]`\n",
    "\n",
    "Remember that you will get elements up to index stop-1\n",
    "\n",
    "\n",
    "To demonstrate this it is helpful to use a list of numbers."
   ]
  },
  {
   "cell_type": "code",
   "execution_count": 36,
   "id": "972bc7b7",
   "metadata": {},
   "outputs": [
    {
     "name": "stdout",
     "output_type": "stream",
     "text": [
      "[0, 1, 2, 3, 4, 5, 6, 7, 8, 9, 10]\n"
     ]
    },
    {
     "data": {
      "text/plain": [
       "[0, 1]"
      ]
     },
     "execution_count": 36,
     "metadata": {},
     "output_type": "execute_result"
    }
   ],
   "source": [
    "# EXAMPLE\n",
    "\n",
    "myList = [0,1,2,3,4,5,6,7,8,9,10]\n",
    "print(myList)\n",
    "\n",
    "myList[0:2]"
   ]
  },
  {
   "cell_type": "markdown",
   "id": "b0c1ef3f",
   "metadata": {},
   "source": [
    "It works the same with a list a strings. "
   ]
  },
  {
   "cell_type": "code",
   "execution_count": null,
   "id": "576d394f",
   "metadata": {},
   "outputs": [],
   "source": [
    "subjects[0:2]"
   ]
  },
  {
   "cell_type": "markdown",
   "id": "5c629200",
   "metadata": {},
   "source": [
    "You can also slice with steps - list[start:stop:step]\n",
    "\n",
    "Again, you will get elements up to index stop-1"
   ]
  },
  {
   "cell_type": "code",
   "execution_count": 30,
   "id": "57046f23",
   "metadata": {},
   "outputs": [
    {
     "ename": "NameError",
     "evalue": "name 'myList' is not defined",
     "output_type": "error",
     "traceback": [
      "\u001b[1;31m---------------------------------------------------------------------------\u001b[0m",
      "\u001b[1;31mNameError\u001b[0m                                 Traceback (most recent call last)",
      "Cell \u001b[1;32mIn[30], line 2\u001b[0m\n\u001b[0;32m      1\u001b[0m \u001b[38;5;66;03m# EXAMPLE\u001b[39;00m\n\u001b[1;32m----> 2\u001b[0m \u001b[38;5;28mprint\u001b[39m(\u001b[43mmyList\u001b[49m)\n\u001b[0;32m      3\u001b[0m myList[\u001b[38;5;241m0\u001b[39m:\u001b[38;5;241m8\u001b[39m:\u001b[38;5;241m2\u001b[39m]\n",
      "\u001b[1;31mNameError\u001b[0m: name 'myList' is not defined"
     ]
    }
   ],
   "source": [
    "# EXAMPLE\n",
    "print(myList)\n",
    "myList[0:8:2]"
   ]
  },
  {
   "cell_type": "code",
   "execution_count": null,
   "id": "242a568e",
   "metadata": {},
   "outputs": [],
   "source": [
    "# EXAMPLE\n",
    "\n",
    "myList[0:7:2]"
   ]
  },
  {
   "cell_type": "markdown",
   "id": "0dfe0301",
   "metadata": {},
   "source": [
    "Why do the two examples above produce produce the same result? Enter your thoughts here in this cell. \n",
    "\n",
    "\n",
    "..."
   ]
  },
  {
   "cell_type": "markdown",
   "id": "597bd06d",
   "metadata": {},
   "source": [
    "Think about what you expect the following example to produce before you run the next cell. "
   ]
  },
  {
   "cell_type": "code",
   "execution_count": null,
   "id": "0519d0f4",
   "metadata": {},
   "outputs": [],
   "source": [
    "# EXAMPLE\n",
    "\n",
    "myList[2:11:4]"
   ]
  },
  {
   "cell_type": "code",
   "execution_count": 33,
   "id": "aff0b706",
   "metadata": {},
   "outputs": [
    {
     "data": {
      "text/plain": [
       "[0, 2, 4, 6, 8, 10]"
      ]
     },
     "execution_count": 33,
     "metadata": {},
     "output_type": "execute_result"
    }
   ],
   "source": [
    "# EXERCISE\n",
    "# Use slicing to output all the even values in myList\n",
    "\n",
    "myList = [0,1,2,3,4,5,6,7,8,9,10]\n",
    "myList[0:11:2]"
   ]
  },
  {
   "cell_type": "code",
   "execution_count": 34,
   "id": "93217a9d",
   "metadata": {},
   "outputs": [
    {
     "data": {
      "text/plain": [
       "[1, 3, 5, 7, 9]"
      ]
     },
     "execution_count": 34,
     "metadata": {},
     "output_type": "execute_result"
    }
   ],
   "source": [
    "# EXERCISE\n",
    "# Use slicing to output all the odd values in myList\n",
    "\n",
    "myList = [0,1,2,3,4,5,6,7,8,9,10]\n",
    "myList[1:10:2]"
   ]
  },
  {
   "cell_type": "code",
   "execution_count": 35,
   "id": "7533df0e",
   "metadata": {},
   "outputs": [
    {
     "data": {
      "text/plain": [
       "[2, 5, 8]"
      ]
     },
     "execution_count": 35,
     "metadata": {},
     "output_type": "execute_result"
    }
   ],
   "source": [
    "# EXERCISE\n",
    "# Use slicing to output the following values: [2, 5, 8]\n",
    "\n",
    "myList = [0,1,2,3,4,5,6,7,8,9,10]\n",
    "myList[2:9:3]"
   ]
  },
  {
   "cell_type": "code",
   "execution_count": 37,
   "id": "f3bd5f5e",
   "metadata": {},
   "outputs": [
    {
     "data": {
      "text/plain": [
       "[1, 5, 9]"
      ]
     },
     "execution_count": 37,
     "metadata": {},
     "output_type": "execute_result"
    }
   ],
   "source": [
    "# EXERCISE\n",
    "# Use slicing to output the following values: [1, 5, 9]\n",
    "\n",
    "myList = [0,1,2,3,4,5,6,7,8,9,10]\n",
    "myList[1:10:4]"
   ]
  },
  {
   "cell_type": "code",
   "execution_count": 40,
   "id": "f4dbbbe8",
   "metadata": {},
   "outputs": [
    {
     "data": {
      "text/plain": [
       "['Calculus', 'English']"
      ]
     },
     "execution_count": 40,
     "metadata": {},
     "output_type": "execute_result"
    }
   ],
   "source": [
    "# EXERCISE\n",
    "# Use slicing to only get the subjects Calculus and English\n",
    "subjects = [\"Calculus\", \"Physics\", \"English\", \"PE\"]\n",
    "subjects[0:3:2]"
   ]
  },
  {
   "cell_type": "markdown",
   "id": "827cfbe8",
   "metadata": {},
   "source": [
    "**Challenge:** For the following list of planets, do the following:\n",
    "<ol>\n",
    "    <li>Update Neptune to Mercury</li>\n",
    "    <li>Slice the list to grab Jupiter, Mars, and Earth</li>\n"
   ]
  },
  {
   "cell_type": "code",
   "execution_count": 41,
   "id": "b62ef962",
   "metadata": {},
   "outputs": [
    {
     "data": {
      "text/plain": [
       "['Jupiter', 'Mars', 'Earth', 'Saturn', 'Neptune']"
      ]
     },
     "execution_count": 41,
     "metadata": {},
     "output_type": "execute_result"
    }
   ],
   "source": [
    "#EXERCISE - LIST OF PLANETS\n",
    "planets = [\"Jupiter\", \"Mars\", \"Earth\", \"Saturn\", \"Neptune\"]\n",
    "planets"
   ]
  },
  {
   "cell_type": "code",
   "execution_count": 44,
   "id": "46e78641",
   "metadata": {},
   "outputs": [
    {
     "data": {
      "text/plain": [
       "['Jupiter', 'Mars', 'Earth', 'Saturn', 'Mercury']"
      ]
     },
     "execution_count": 44,
     "metadata": {},
     "output_type": "execute_result"
    }
   ],
   "source": [
    "#Update Neptune to Mercury\n",
    "\n",
    "planets[-1] = \"Mercury\"\n",
    "\n",
    "planets"
   ]
  },
  {
   "cell_type": "code",
   "execution_count": 43,
   "id": "fff246a6",
   "metadata": {},
   "outputs": [
    {
     "data": {
      "text/plain": [
       "['Jupiter', 'Mars', 'Earth']"
      ]
     },
     "execution_count": 43,
     "metadata": {},
     "output_type": "execute_result"
    }
   ],
   "source": [
    "#Use slicing to grab Jupiter, Mars, and Earth\n",
    "\n",
    "planets[0:3]"
   ]
  },
  {
   "cell_type": "markdown",
   "id": "177ec22d",
   "metadata": {},
   "source": [
    "### 2.2 Adding Elements<a id='subsection5'></a>"
   ]
  },
  {
   "cell_type": "markdown",
   "id": "22f10292",
   "metadata": {},
   "source": [
    "To add elements to a list, we can use a few functions. The ones we will show you today are built-in functions **insert** and **append**.\n",
    "Append function is used to add value to the existing list. Just use the append keyword and add the name. The new value will be added at the end of the list."
   ]
  },
  {
   "cell_type": "code",
   "execution_count": 45,
   "id": "b75028b3",
   "metadata": {},
   "outputs": [
    {
     "data": {
      "text/plain": [
       "['Sequoia', 'Palm Tree', 'Joshua Tree', 'Pine Tree']"
      ]
     },
     "execution_count": 45,
     "metadata": {},
     "output_type": "execute_result"
    }
   ],
   "source": [
    "# EXAMPLE\n",
    "\n",
    "trees = [\"Sequoia\", \"Palm Tree\", \"Joshua Tree\"]\n",
    "\n",
    "# to add an element to the end of the list, we can use \"append\"\n",
    "\n",
    "trees.append(\"Pine Tree\")\n",
    "trees"
   ]
  },
  {
   "cell_type": "markdown",
   "id": "de394594",
   "metadata": {},
   "source": [
    "We use the **insert** function to insert the value into the list. The insert function allows us to insert the value at a **specific index position**. Be careful when using insert function, you actually need to specify the position at which you are inserting an element.\n",
    "\n",
    "The element that exists at the specified index will shift to the next index. All the elements after that index will increment by 1 as well.\n",
    "\n",
    "Be careful when using insert function, you actually need to specify the position at which you are inserting an element."
   ]
  },
  {
   "cell_type": "code",
   "execution_count": null,
   "id": "6da9a426",
   "metadata": {},
   "outputs": [],
   "source": [
    "# EXAMPLE\n",
    "\n",
    "trees.insert(2, \"Redwood\")\n",
    "trees"
   ]
  },
  {
   "cell_type": "markdown",
   "id": "0991f1b4",
   "metadata": {},
   "source": [
    "In the cell below, add Douglas Fir to the second position in the trees list."
   ]
  },
  {
   "cell_type": "code",
   "execution_count": 46,
   "id": "2c6dc634",
   "metadata": {},
   "outputs": [
    {
     "data": {
      "text/plain": [
       "['Sequoia', 'Douglas Fir', 'Palm Tree', 'Joshua Tree', 'Pine Tree']"
      ]
     },
     "execution_count": 46,
     "metadata": {},
     "output_type": "execute_result"
    }
   ],
   "source": [
    "# EXERCISE\n",
    "\n",
    "trees.insert(1, \"Douglas Fir\")\n",
    "trees"
   ]
  },
  {
   "cell_type": "markdown",
   "id": "c53aa226",
   "metadata": {},
   "source": [
    "Methods **insert** and **append** are not the only ways to add elements to a list. The most commonly used way to add elements to lists is using **+=** signs. The way you can think about it is **+** adds an element and **=** reassigns the variable."
   ]
  },
  {
   "cell_type": "code",
   "execution_count": 62,
   "id": "ff2307fa",
   "metadata": {},
   "outputs": [
    {
     "data": {
      "text/plain": [
       "['zucchini', 'cucumber', 'potato']"
      ]
     },
     "execution_count": 62,
     "metadata": {},
     "output_type": "execute_result"
    }
   ],
   "source": [
    "# EXAMPLE\n",
    "\n",
    "veg = [\"zucchini\", \"cucumber\"]\n",
    "\n",
    "veg+= [\"potato\"]\n",
    "veg"
   ]
  },
  {
   "cell_type": "markdown",
   "id": "a1110c99",
   "metadata": {},
   "source": [
    "### <center>  * * * Good Coding Practice Moment * * * <center>\n",
    "#### What is += ?\n",
    "\n",
    "When you want to write an equation that modifies a variable but doesn't change it's name you can combine operators as follows\n",
    "    \n",
    "          a = a+2          is the same as             a += 2\n",
    "          b = b-2          is the same as             b -= 3\n",
    "          c = c*4          is the same as             c *= 4\n",
    "          d = d/5          is the same as             d /= 5\n",
    "    \n",
    "\n",
    "### <center> * * * * * * * * * * * * * * * * * * * * * * * * * * * * <center>"
   ]
  },
  {
   "cell_type": "markdown",
   "id": "fd2f6b42",
   "metadata": {},
   "source": [
    "The important thing to remember is that **+** can only work with elements of the same type. If you want to add somthing to a list, the element must be in the form of a list as well. Let's see what would happen if we will try to add a non-list element to a list."
   ]
  },
  {
   "cell_type": "code",
   "execution_count": 63,
   "id": "0845f856",
   "metadata": {
    "scrolled": true
   },
   "outputs": [
    {
     "data": {
      "text/plain": [
       "['zucchini', 'cucumber', 'potato', 'bell pepper']"
      ]
     },
     "execution_count": 63,
     "metadata": {},
     "output_type": "execute_result"
    }
   ],
   "source": [
    "veg += [\"bell pepper\"]\n",
    "veg"
   ]
  },
  {
   "cell_type": "markdown",
   "id": "7d0a3f7a",
   "metadata": {},
   "source": [
    "Now practice adding your own vegetable of choice to the list **veg**. \n",
    "\n",
    "**Note:** Since **veg** is in the form of a list, the element you add to it should also be in a form of a list."
   ]
  },
  {
   "cell_type": "code",
   "execution_count": 64,
   "id": "6045b6fa",
   "metadata": {},
   "outputs": [
    {
     "data": {
      "text/plain": [
       "['zucchini', 'cucumber', 'potato', 'bell pepper', 'carrot']"
      ]
     },
     "execution_count": 64,
     "metadata": {},
     "output_type": "execute_result"
    }
   ],
   "source": [
    "# EXERCISE\n",
    "\n",
    "veg += [\"carrot\"]\n",
    "veg"
   ]
  },
  {
   "cell_type": "markdown",
   "id": "574e748e",
   "metadata": {},
   "source": [
    "### 2.3 Deleting Elements<a id='subsection6'></a>"
   ]
  },
  {
   "cell_type": "markdown",
   "id": "38d6b4d5",
   "metadata": {},
   "source": [
    "Python has three built-in functions and methods for deleting elements from a list."
   ]
  },
  {
   "cell_type": "code",
   "execution_count": 71,
   "id": "b862750d",
   "metadata": {},
   "outputs": [],
   "source": [
    "random_list = ['Zoom', 1, 7, 9, \"Python\", \"Berkeley\"]"
   ]
  },
  {
   "cell_type": "markdown",
   "id": "2c3909d0",
   "metadata": {},
   "source": [
    "Method **del** works with indices and allows for the deletion of parts of the list through slicing."
   ]
  },
  {
   "cell_type": "code",
   "execution_count": 72,
   "id": "ddfa917f",
   "metadata": {},
   "outputs": [
    {
     "data": {
      "text/plain": [
       "[1, 7, 9, 'Python', 'Berkeley']"
      ]
     },
     "execution_count": 72,
     "metadata": {},
     "output_type": "execute_result"
    }
   ],
   "source": [
    "# EXAMPLE \n",
    "\n",
    "del random_list[0:1]\n",
    "\n",
    "random_list"
   ]
  },
  {
   "cell_type": "markdown",
   "id": "ca26632f",
   "metadata": {},
   "source": [
    "Make sure that you specify which elements you want to delete or it will delete the entire list."
   ]
  },
  {
   "cell_type": "code",
   "execution_count": 73,
   "id": "52c17222",
   "metadata": {},
   "outputs": [
    {
     "ename": "NameError",
     "evalue": "name 'random_list' is not defined",
     "output_type": "error",
     "traceback": [
      "\u001b[1;31m---------------------------------------------------------------------------\u001b[0m",
      "\u001b[1;31mNameError\u001b[0m                                 Traceback (most recent call last)",
      "Cell \u001b[1;32mIn[73], line 2\u001b[0m\n\u001b[0;32m      1\u001b[0m \u001b[38;5;28;01mdel\u001b[39;00m random_list\n\u001b[1;32m----> 2\u001b[0m \u001b[43mrandom_list\u001b[49m\n",
      "\u001b[1;31mNameError\u001b[0m: name 'random_list' is not defined"
     ]
    }
   ],
   "source": [
    "del random_list\n",
    "random_list"
   ]
  },
  {
   "cell_type": "markdown",
   "id": "08345dd7",
   "metadata": {},
   "source": [
    "Method **.pop(  )** works with indices. It is the last symbol/character/object by default. But you can add a specific index."
   ]
  },
  {
   "cell_type": "code",
   "execution_count": 74,
   "id": "26c5a2ac",
   "metadata": {},
   "outputs": [
    {
     "data": {
      "text/plain": [
       "'Python'"
      ]
     },
     "execution_count": 74,
     "metadata": {},
     "output_type": "execute_result"
    }
   ],
   "source": [
    "# EXAMPLE \n",
    "\n",
    "random_list = ['Zoom', 1, 7, 9, \"Python\", \"Berkeley\",\"Python\"]\n",
    "\n",
    "random_list.pop()"
   ]
  },
  {
   "cell_type": "code",
   "execution_count": 75,
   "id": "4dc30e6c",
   "metadata": {},
   "outputs": [
    {
     "data": {
      "text/plain": [
       "'Zoom'"
      ]
     },
     "execution_count": 75,
     "metadata": {},
     "output_type": "execute_result"
    }
   ],
   "source": [
    "# EXAMPLE \n",
    "\n",
    "random_list.pop(0)"
   ]
  },
  {
   "cell_type": "markdown",
   "id": "4aa96b0a",
   "metadata": {},
   "source": [
    "Notice that **.pop(  )** outputs the thing it removed from the list. Can you think of a reason why this would be useful? "
   ]
  },
  {
   "cell_type": "code",
   "execution_count": 76,
   "id": "ec3bae5d",
   "metadata": {},
   "outputs": [
    {
     "name": "stdout",
     "output_type": "stream",
     "text": [
      "['California', 'is', 'on the', 'West Coast']\n",
      "['California', 'is', 'on the']\n",
      "West Coast\n"
     ]
    }
   ],
   "source": [
    "# EXAMPLE \n",
    "\n",
    "state = [\"California\", \"is\", \"on the\", \"West Coast\"]\n",
    "print(state)\n",
    "last = state.pop()\n",
    "print(state)\n",
    "print(last)"
   ]
  },
  {
   "cell_type": "markdown",
   "id": "2ac8b2f0",
   "metadata": {},
   "source": [
    "Another method you can use for lists is **.remove**. This method uses the exact values (case matters too)."
   ]
  },
  {
   "cell_type": "code",
   "execution_count": 77,
   "id": "dfd024b8",
   "metadata": {},
   "outputs": [
    {
     "data": {
      "text/plain": [
       "[1, 7, 9, 'Berkeley']"
      ]
     },
     "execution_count": 77,
     "metadata": {},
     "output_type": "execute_result"
    }
   ],
   "source": [
    "# EXAMPLE \n",
    "\n",
    "random_list.remove(\"Python\")\n",
    "random_list"
   ]
  },
  {
   "cell_type": "markdown",
   "id": "2065807e",
   "metadata": {},
   "source": [
    "(Note that this method removes all the instances of \"Python\")"
   ]
  },
  {
   "cell_type": "markdown",
   "id": "f1f1a257",
   "metadata": {},
   "source": [
    "In the cell below, delete three elements with the help of three different methods shown above."
   ]
  },
  {
   "cell_type": "code",
   "execution_count": 80,
   "id": "5c1026f5",
   "metadata": {},
   "outputs": [
    {
     "name": "stdout",
     "output_type": "stream",
     "text": [
      "['Data Science', 'Biology', 'Chemistry', 'American Studies']\n",
      "['Data Science', 'Biology', 'Chemistry']\n",
      "['Data Science', 'Chemistry']\n"
     ]
    }
   ],
   "source": [
    "# EXERCISE\n",
    "\n",
    "majors = [\"Cognitive Science\", \"Data Science\", \"Biology\", \"Chemistry\", \"American Studies\"]\n",
    "\n",
    "#first method\n",
    "del majors[0:1]\n",
    "print(majors)\n",
    "\n",
    "\n",
    "#second method\n",
    "majors.pop()\n",
    "print(majors)\n",
    "\n",
    "\n",
    "#third method\n",
    "majors.remove(\"Biology\")\n",
    "print(majors)"
   ]
  },
  {
   "cell_type": "markdown",
   "id": "3be28d24",
   "metadata": {},
   "source": [
    "### 2.4 Length of a list<a id='subsection7'></a>"
   ]
  },
  {
   "cell_type": "markdown",
   "id": "f97ff254",
   "metadata": {},
   "source": [
    "Built-in function **len(   )** can also be used to figure out the length of a list. The len(): function can be used to find the total count of elements in a list."
   ]
  },
  {
   "cell_type": "code",
   "execution_count": 81,
   "id": "186bc995",
   "metadata": {},
   "outputs": [
    {
     "data": {
      "text/plain": [
       "4"
      ]
     },
     "execution_count": 81,
     "metadata": {},
     "output_type": "execute_result"
    }
   ],
   "source": [
    "# EXAMPLE \n",
    "# Before running this cell, think what the output will be.\n",
    "\n",
    "countries = [\"USA\", \"Belarus\", \"Mexico\", \"Poland\"]\n",
    "len(countries)"
   ]
  },
  {
   "cell_type": "markdown",
   "id": "805f95ab",
   "metadata": {},
   "source": [
    "When used with lists, it counts only the \"outer\" objects. Meaning, if there are lists inside of your list, no matter however many objects each of them has, the len(  ) will count the whole list as a single object."
   ]
  },
  {
   "cell_type": "code",
   "execution_count": 82,
   "id": "df0f012c",
   "metadata": {},
   "outputs": [
    {
     "data": {
      "text/plain": [
       "2"
      ]
     },
     "execution_count": 82,
     "metadata": {},
     "output_type": "execute_result"
    }
   ],
   "source": [
    "random = [[1,2,3,4],[4,5,6]]\n",
    "\n",
    "# Before running this cell, can you guess the output it will give you?\n",
    "\n",
    "len(random)"
   ]
  },
  {
   "cell_type": "markdown",
   "id": "80124332",
   "metadata": {},
   "source": [
    "### 2.5 Operations on a list<a id='subsection8'></a>"
   ]
  },
  {
   "cell_type": "code",
   "execution_count": 83,
   "id": "53fb64d7",
   "metadata": {},
   "outputs": [
    {
     "ename": "TypeError",
     "evalue": "can only concatenate list (not \"int\") to list",
     "output_type": "error",
     "traceback": [
      "\u001b[1;31m---------------------------------------------------------------------------\u001b[0m",
      "\u001b[1;31mTypeError\u001b[0m                                 Traceback (most recent call last)",
      "Cell \u001b[1;32mIn[83], line 5\u001b[0m\n\u001b[0;32m      1\u001b[0m \u001b[38;5;66;03m# EXAMPLE\u001b[39;00m\n\u001b[0;32m      3\u001b[0m my_numbers \u001b[38;5;241m=\u001b[39m [\u001b[38;5;241m1\u001b[39m, \u001b[38;5;241m2\u001b[39m, \u001b[38;5;241m3\u001b[39m, \u001b[38;5;241m4\u001b[39m, \u001b[38;5;241m5\u001b[39m]\n\u001b[1;32m----> 5\u001b[0m \u001b[43mmy_numbers\u001b[49m\u001b[43m \u001b[49m\u001b[38;5;241;43m+\u001b[39;49m\u001b[43m \u001b[49m\u001b[38;5;241;43m2\u001b[39;49m\n",
      "\u001b[1;31mTypeError\u001b[0m: can only concatenate list (not \"int\") to list"
     ]
    }
   ],
   "source": [
    "# EXAMPLE\n",
    "\n",
    "my_numbers = [1, 2, 3, 4, 5]\n",
    "\n",
    "my_numbers + 2"
   ]
  },
  {
   "cell_type": "markdown",
   "id": "9d479d0a",
   "metadata": {},
   "source": [
    "As you can see above, Lists do not support \"+\" as a addition, rather the \"+\" operator combines, or **concatenates** multiple lists. In order to concatenate, or glue elements together, they must the same data type or data structure. "
   ]
  },
  {
   "cell_type": "code",
   "execution_count": 84,
   "id": "43ff18e6",
   "metadata": {},
   "outputs": [
    {
     "data": {
      "text/plain": [
       "[1, 2, 3, 4, 5, 6]"
      ]
     },
     "execution_count": 84,
     "metadata": {},
     "output_type": "execute_result"
    }
   ],
   "source": [
    "list_one = [1, 2, 3]\n",
    "list_two = [4, 5, 6]\n",
    "list_three = list_one + list_two\n",
    "list_three"
   ]
  },
  {
   "cell_type": "markdown",
   "id": "d95793f3",
   "metadata": {},
   "source": [
    "Can you guess the output of the next cell?"
   ]
  },
  {
   "cell_type": "code",
   "execution_count": 85,
   "id": "7cd67c29",
   "metadata": {},
   "outputs": [
    {
     "data": {
      "text/plain": [
       "[1, 2, 3, 4, 5, 1, 2, 3, 4, 5]"
      ]
     },
     "execution_count": 85,
     "metadata": {},
     "output_type": "execute_result"
    }
   ],
   "source": [
    "# EXAMPLE\n",
    "\n",
    "my_numbers * 2"
   ]
  },
  {
   "cell_type": "markdown",
   "id": "cace9461",
   "metadata": {},
   "source": [
    "---\n",
    "# Dictionaries<a id='section3'></a>"
   ]
  },
  {
   "cell_type": "markdown",
   "id": "1de9d074",
   "metadata": {},
   "source": [
    "Dictionaries are used to store data values in **key:value** pairs. A dictionary is a collection which is ordered, changeable, and do not allow duplicates."
   ]
  },
  {
   "cell_type": "code",
   "execution_count": 86,
   "id": "60fc314b",
   "metadata": {},
   "outputs": [
    {
     "data": {
      "text/plain": [
       "{'Netflix': '123456', 'Instagram': 'incorrect', 'Gmail': 'pa$$w0rd'}"
      ]
     },
     "execution_count": 86,
     "metadata": {},
     "output_type": "execute_result"
    }
   ],
   "source": [
    "#A dictionary of passwords (keys) for various services (values)\n",
    "\n",
    "myPasswords = {\n",
    "    \"Netflix\" : \"123456\",\n",
    "    \"Instagram\" : \"incorrect\",\n",
    "    \"Gmail\" : \"pa$$w0rd\"\n",
    "}\n",
    "\n",
    "myPasswords"
   ]
  },
  {
   "cell_type": "markdown",
   "id": "74aba7c2",
   "metadata": {},
   "source": [
    "You can use the key name to retrieve values:"
   ]
  },
  {
   "cell_type": "code",
   "execution_count": 87,
   "id": "fce3b620",
   "metadata": {},
   "outputs": [
    {
     "data": {
      "text/plain": [
       "'123456'"
      ]
     },
     "execution_count": 87,
     "metadata": {},
     "output_type": "execute_result"
    }
   ],
   "source": [
    "myPasswords[\"Netflix\"]"
   ]
  },
  {
   "cell_type": "markdown",
   "id": "4fb6ce1f",
   "metadata": {},
   "source": [
    "Another method is using the get() function:"
   ]
  },
  {
   "cell_type": "code",
   "execution_count": 88,
   "id": "e030d860",
   "metadata": {},
   "outputs": [
    {
     "data": {
      "text/plain": [
       "'123456'"
      ]
     },
     "execution_count": 88,
     "metadata": {},
     "output_type": "execute_result"
    }
   ],
   "source": [
    "myPasswords.get(\"Netflix\")"
   ]
  },
  {
   "cell_type": "markdown",
   "id": "dd61e8c2",
   "metadata": {},
   "source": [
    "Duplicates are **not** allowed in dictionaries. This means that if you have a duplicate key, the value will be overwritten:"
   ]
  },
  {
   "cell_type": "code",
   "execution_count": 89,
   "id": "962e2931",
   "metadata": {},
   "outputs": [
    {
     "data": {
      "text/plain": [
       "{'Netflix': '123456', 'Instagram': 'incorrect', 'Gmail': 'n3wpa$$w0rd'}"
      ]
     },
     "execution_count": 89,
     "metadata": {},
     "output_type": "execute_result"
    }
   ],
   "source": [
    "myPasswords = {\n",
    "    \"Netflix\" : \"123456\",\n",
    "    \"Instagram\" : \"incorrect\",\n",
    "    \"Gmail\" : \"pa$$w0rd\",\n",
    "    \"Gmail\" : \"n3wpa$$w0rd\"\n",
    "}\n",
    "\n",
    "myPasswords"
   ]
  },
  {
   "cell_type": "markdown",
   "id": "a643aa2a",
   "metadata": {},
   "source": [
    "Values in a dictionary can be of any type! (You can also use integers and floats for keys instead of strings)"
   ]
  },
  {
   "cell_type": "code",
   "execution_count": 90,
   "id": "d5193d16",
   "metadata": {},
   "outputs": [
    {
     "data": {
      "text/plain": [
       "{'Netflix': 123456,\n",
       " 'Instagram': 'incorrect',\n",
       " 'Gmail': 'pa$$w0rd',\n",
       " 'Spotify': ['forgot', 'my', 'password']}"
      ]
     },
     "execution_count": 90,
     "metadata": {},
     "output_type": "execute_result"
    }
   ],
   "source": [
    "myPasswords = {\n",
    "    \"Netflix\" : 123456,\n",
    "    \"Instagram\" : \"incorrect\",\n",
    "    \"Gmail\" : \"pa$$w0rd\",\n",
    "    \"Spotify\" : [\"forgot\", \"my\", \"password\"]\n",
    "}\n",
    "\n",
    "myPasswords"
   ]
  },
  {
   "cell_type": "markdown",
   "id": "8f6c8091",
   "metadata": {},
   "source": [
    "Do you have to rewrite the whole dictionary each time to update it? No! You can change, add, and delete values:"
   ]
  },
  {
   "cell_type": "code",
   "execution_count": 91,
   "id": "4dc51492",
   "metadata": {},
   "outputs": [
    {
     "data": {
      "text/plain": [
       "{'Netflix': 123456,\n",
       " 'Instagram': 'incorrect',\n",
       " 'Gmail': 'pa$$w0rd',\n",
       " 'Spotify': 789}"
      ]
     },
     "execution_count": 91,
     "metadata": {},
     "output_type": "execute_result"
    }
   ],
   "source": [
    "#Looks like I found my Spotify password... better update my dictionary:\n",
    "myPasswords[\"Spotify\"] = 789\n",
    "\n",
    "myPasswords"
   ]
  },
  {
   "cell_type": "code",
   "execution_count": 92,
   "id": "0e073989",
   "metadata": {},
   "outputs": [
    {
     "data": {
      "text/plain": [
       "{'Netflix': 123456,\n",
       " 'Instagram': 'incorrect',\n",
       " 'Gmail': 'pa$$w0rd',\n",
       " 'Spotify': 789,\n",
       " 'Uber': 'toomanypasswords'}"
      ]
     },
     "execution_count": 92,
     "metadata": {},
     "output_type": "execute_result"
    }
   ],
   "source": [
    "#Similarly we can add a key:value pair:\n",
    "\n",
    "myPasswords[\"Uber\"] = \"toomanypasswords\"\n",
    "\n",
    "myPasswords"
   ]
  },
  {
   "cell_type": "code",
   "execution_count": 93,
   "id": "61335f90",
   "metadata": {},
   "outputs": [
    {
     "data": {
      "text/plain": [
       "{'Netflix': 123456, 'Gmail': 'pa$$w0rd', 'Uber': 'toomanypasswords'}"
      ]
     },
     "execution_count": 93,
     "metadata": {},
     "output_type": "execute_result"
    }
   ],
   "source": [
    "#Deleting is similar to lists - use pop() or del\n",
    "\n",
    "myPasswords.pop(\"Instagram\")\n",
    "del myPasswords[\"Spotify\"]\n",
    "\n",
    "myPasswords"
   ]
  },
  {
   "cell_type": "code",
   "execution_count": 94,
   "id": "e8f2ca82",
   "metadata": {},
   "outputs": [
    {
     "data": {
      "text/plain": [
       "{}"
      ]
     },
     "execution_count": 94,
     "metadata": {},
     "output_type": "execute_result"
    }
   ],
   "source": [
    "#And we can empty the whole dictionary using clear!\n",
    "\n",
    "myPasswords.clear()\n",
    "myPasswords"
   ]
  },
  {
   "cell_type": "markdown",
   "id": "cb4493e8",
   "metadata": {},
   "source": [
    "**Challenge:** You are going to go grocery shopping for apples, beans, and cheese.\n",
    "Create a dictionary called shoppingList that uses integer values as keys.\n",
    "\n",
    "After creating the dictionary, add several items of your choice in your dictionary."
   ]
  },
  {
   "cell_type": "code",
   "execution_count": 106,
   "id": "f5903552",
   "metadata": {},
   "outputs": [
    {
     "data": {
      "text/plain": [
       "{1: 'carrots', 2: 'ice cream', 3: 'bread', 4: 'eggs'}"
      ]
     },
     "execution_count": 106,
     "metadata": {},
     "output_type": "execute_result"
    }
   ],
   "source": [
    "shoppingList = {\n",
    "    1 : \"carrots\",\n",
    "    2 : \"ice cream\",\n",
    "    3 : \"bread\"\n",
    "}\n",
    "\n",
    "shoppingList[4] = \"eggs\"\n",
    "shoppingList"
   ]
  },
  {
   "cell_type": "code",
   "execution_count": 107,
   "id": "a0824406",
   "metadata": {},
   "outputs": [
    {
     "data": {
      "text/plain": [
       "{1: 'carrots', 2: 'ice cream', 3: 'bread', 4: 'eggs', 5: 'chocolate'}"
      ]
     },
     "execution_count": 107,
     "metadata": {},
     "output_type": "execute_result"
    }
   ],
   "source": [
    "#Add some items to your shopping list\n",
    "\n",
    "shoppingList[5] = \"chocolate\"\n",
    "shoppingList"
   ]
  },
  {
   "cell_type": "markdown",
   "id": "4abb0738",
   "metadata": {},
   "source": [
    "Ask a group member to choose an item to remove from your shopping list, then remove it. "
   ]
  },
  {
   "cell_type": "code",
   "execution_count": 108,
   "id": "b0beace6",
   "metadata": {},
   "outputs": [
    {
     "data": {
      "text/plain": [
       "{1: 'carrots', 4: 'eggs', 5: 'chocolate'}"
      ]
     },
     "execution_count": 108,
     "metadata": {},
     "output_type": "execute_result"
    }
   ],
   "source": [
    "#Remove an item\n",
    "shoppingList.pop(2)\n",
    "del shoppingList[3]\n",
    "\n",
    "shoppingList"
   ]
  },
  {
   "cell_type": "markdown",
   "id": "fd81a98e",
   "metadata": {},
   "source": [
    "---\n",
    "Notebook developed by: Kseniya Usovich, Rachel McCarty, Baishakhi Bose, Alisa Bettale, Laurel Hales"
   ]
  }
 ],
 "metadata": {
  "kernelspec": {
   "display_name": "Python 3 (ipykernel)",
   "language": "python",
   "name": "python3"
  },
  "language_info": {
   "codemirror_mode": {
    "name": "ipython",
    "version": 3
   },
   "file_extension": ".py",
   "mimetype": "text/x-python",
   "name": "python",
   "nbconvert_exporter": "python",
   "pygments_lexer": "ipython3",
   "version": "3.10.9"
  }
 },
 "nbformat": 4,
 "nbformat_minor": 5
}
